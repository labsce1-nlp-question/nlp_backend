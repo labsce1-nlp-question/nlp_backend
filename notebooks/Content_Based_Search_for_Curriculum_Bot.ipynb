{
  "nbformat": 4,
  "nbformat_minor": 0,
  "metadata": {
    "kernelspec": {
      "display_name": "conda_python3",
      "language": "python",
      "name": "conda_python3"
    },
    "language_info": {
      "codemirror_mode": {
        "name": "ipython",
        "version": 3
      },
      "file_extension": ".py",
      "mimetype": "text/x-python",
      "name": "python",
      "nbconvert_exporter": "python",
      "pygments_lexer": "ipython3",
      "version": "3.6.5"
    },
    "colab": {
      "name": "Content Based Search for Curriculum Bot.ipynb",
      "version": "0.3.2",
      "provenance": [],
      "collapsed_sections": []
    }
  },
  "cells": [
    {
      "cell_type": "markdown",
      "metadata": {
        "id": "nnKrcGcxwclI",
        "colab_type": "text"
      },
      "source": [
        "# Content Based Search for Curriculum Bot\n",
        "\n",
        "Let me step you through the demo of machine learning model to search training kit topics based on student's questions. For the purpose of this demo, let us use private data obtained from Lambda School Airtable data.\n",
        "\n",
        "To run this notebook, first upload **modSearchData.json** from github repository.\n",
        "\n",
        "Now we perform exploratory data analysis on the dataset."
      ]
    },
    {
      "cell_type": "code",
      "metadata": {
        "id": "9i4Z99uAwclb",
        "colab_type": "code",
        "colab": {},
        "cellView": "both"
      },
      "source": [
        "#@title\n",
        "# Generic imports\n",
        "import pandas as pd\n",
        "import numpy as np"
      ],
      "execution_count": 0,
      "outputs": []
    },
    {
      "cell_type": "code",
      "metadata": {
        "id": "5Bht-M3uwclh",
        "colab_type": "code",
        "outputId": "ef6f9ffc-c595-41f0-f825-b01172f70456",
        "colab": {
          "base_uri": "https://localhost:8080/",
          "height": 306
        }
      },
      "source": [
        "df = pd.read_json('modSearchData.json')\n",
        "print(f'Our data set has {df.shape[0]} records and {df.shape[1]} features or columns.')\n",
        "\n",
        "# Identify initial records in the data\n",
        "df.head()"
      ],
      "execution_count": 2,
      "outputs": [
        {
          "output_type": "stream",
          "text": [
            "Our data set has 380 records and 5 features or columns.\n"
          ],
          "name": "stdout"
        },
        {
          "output_type": "execute_result",
          "data": {
            "text/html": [
              "<div>\n",
              "<style scoped>\n",
              "    .dataframe tbody tr th:only-of-type {\n",
              "        vertical-align: middle;\n",
              "    }\n",
              "\n",
              "    .dataframe tbody tr th {\n",
              "        vertical-align: top;\n",
              "    }\n",
              "\n",
              "    .dataframe thead th {\n",
              "        text-align: right;\n",
              "    }\n",
              "</style>\n",
              "<table border=\"1\" class=\"dataframe\">\n",
              "  <thead>\n",
              "    <tr style=\"text-align: right;\">\n",
              "      <th></th>\n",
              "      <th>URL</th>\n",
              "      <th>description</th>\n",
              "      <th>id</th>\n",
              "      <th>modSearchProfile</th>\n",
              "      <th>name</th>\n",
              "    </tr>\n",
              "  </thead>\n",
              "  <tbody>\n",
              "    <tr>\n",
              "      <th>0</th>\n",
              "      <td>https://learn.lambdaschool.com/and-pre/module/...</td>\n",
              "      <td>This teaches students how to make more modular...</td>\n",
              "      <td>rec06OcmnettIrdMk</td>\n",
              "      <td>{'text': 'this teaches students how to make mo...</td>\n",
              "      <td>Methods</td>\n",
              "    </tr>\n",
              "    <tr>\n",
              "      <th>1</th>\n",
              "      <td>https://learn.lambdaschool.com/web1/module/rec...</td>\n",
              "      <td>JavaScript III introduces us to the `this` key...</td>\n",
              "      <td>rec0AWuNLezbpit7m</td>\n",
              "      <td>{'text': 'javascript iii introduces us to the ...</td>\n",
              "      <td>JavaScript III</td>\n",
              "    </tr>\n",
              "    <tr>\n",
              "      <th>2</th>\n",
              "      <td>https://learn.lambdaschool.com/ds/module/rec0O...</td>\n",
              "      <td>Explore Bag of Words analysis with NLTK! We'll...</td>\n",
              "      <td>rec0O4tJizjI1C6EA</td>\n",
              "      <td>{'text': 'explore bag of words analysis with n...</td>\n",
              "      <td>Vector Representations</td>\n",
              "    </tr>\n",
              "    <tr>\n",
              "      <th>3</th>\n",
              "      <td>https://learn.lambdaschool.com/fsw-pre/module/...</td>\n",
              "      <td>In the last lesson, we started down the path o...</td>\n",
              "      <td>rec0Vmn34NDFqmwy8</td>\n",
              "      <td>{'text': 'in the last lesson, we started down ...</td>\n",
              "      <td>HTML and CSS Fundamentals</td>\n",
              "    </tr>\n",
              "    <tr>\n",
              "      <th>4</th>\n",
              "      <td>https://learn.lambdaschool.com/ds/module/rec0p...</td>\n",
              "      <td>One of Linear Algebra's great strengths is its...</td>\n",
              "      <td>rec0pSWqkfdxJv6eC</td>\n",
              "      <td>{'text': 'one of linear algebra's great streng...</td>\n",
              "      <td>Dimensionality Reduction Techniques</td>\n",
              "    </tr>\n",
              "  </tbody>\n",
              "</table>\n",
              "</div>"
            ],
            "text/plain": [
              "                                                 URL  ...                                 name\n",
              "0  https://learn.lambdaschool.com/and-pre/module/...  ...                              Methods\n",
              "1  https://learn.lambdaschool.com/web1/module/rec...  ...                       JavaScript III\n",
              "2  https://learn.lambdaschool.com/ds/module/rec0O...  ...               Vector Representations\n",
              "3  https://learn.lambdaschool.com/fsw-pre/module/...  ...            HTML and CSS Fundamentals\n",
              "4  https://learn.lambdaschool.com/ds/module/rec0p...  ...  Dimensionality Reduction Techniques\n",
              "\n",
              "[5 rows x 5 columns]"
            ]
          },
          "metadata": {
            "tags": []
          },
          "execution_count": 2
        }
      ]
    },
    {
      "cell_type": "code",
      "metadata": {
        "id": "Mt29VKvKwclq",
        "colab_type": "code",
        "outputId": "cef7c015-42a2-4e8f-9831-bdc8b24f75f9",
        "colab": {
          "base_uri": "https://localhost:8080/",
          "height": 139
        }
      },
      "source": [
        "print('Checking the data consistency')\n",
        "df.isnull().sum()"
      ],
      "execution_count": 3,
      "outputs": [
        {
          "output_type": "stream",
          "text": [
            "Checking the data consistency\n"
          ],
          "name": "stdout"
        },
        {
          "output_type": "execute_result",
          "data": {
            "text/plain": [
              "URL                 0\n",
              "description         0\n",
              "id                  0\n",
              "modSearchProfile    0\n",
              "name                0\n",
              "dtype: int64"
            ]
          },
          "metadata": {
            "tags": []
          },
          "execution_count": 3
        }
      ]
    },
    {
      "cell_type": "code",
      "metadata": {
        "id": "wDw0Y7OMKj1Z",
        "colab_type": "code",
        "outputId": "de346330-3a31-4762-90bc-29613c744625",
        "colab": {
          "base_uri": "https://localhost:8080/",
          "height": 289
        }
      },
      "source": [
        "df.head()"
      ],
      "execution_count": 4,
      "outputs": [
        {
          "output_type": "execute_result",
          "data": {
            "text/html": [
              "<div>\n",
              "<style scoped>\n",
              "    .dataframe tbody tr th:only-of-type {\n",
              "        vertical-align: middle;\n",
              "    }\n",
              "\n",
              "    .dataframe tbody tr th {\n",
              "        vertical-align: top;\n",
              "    }\n",
              "\n",
              "    .dataframe thead th {\n",
              "        text-align: right;\n",
              "    }\n",
              "</style>\n",
              "<table border=\"1\" class=\"dataframe\">\n",
              "  <thead>\n",
              "    <tr style=\"text-align: right;\">\n",
              "      <th></th>\n",
              "      <th>URL</th>\n",
              "      <th>description</th>\n",
              "      <th>id</th>\n",
              "      <th>modSearchProfile</th>\n",
              "      <th>name</th>\n",
              "    </tr>\n",
              "  </thead>\n",
              "  <tbody>\n",
              "    <tr>\n",
              "      <th>0</th>\n",
              "      <td>https://learn.lambdaschool.com/and-pre/module/...</td>\n",
              "      <td>This teaches students how to make more modular...</td>\n",
              "      <td>rec06OcmnettIrdMk</td>\n",
              "      <td>{'text': 'this teaches students how to make mo...</td>\n",
              "      <td>Methods</td>\n",
              "    </tr>\n",
              "    <tr>\n",
              "      <th>1</th>\n",
              "      <td>https://learn.lambdaschool.com/web1/module/rec...</td>\n",
              "      <td>JavaScript III introduces us to the `this` key...</td>\n",
              "      <td>rec0AWuNLezbpit7m</td>\n",
              "      <td>{'text': 'javascript iii introduces us to the ...</td>\n",
              "      <td>JavaScript III</td>\n",
              "    </tr>\n",
              "    <tr>\n",
              "      <th>2</th>\n",
              "      <td>https://learn.lambdaschool.com/ds/module/rec0O...</td>\n",
              "      <td>Explore Bag of Words analysis with NLTK! We'll...</td>\n",
              "      <td>rec0O4tJizjI1C6EA</td>\n",
              "      <td>{'text': 'explore bag of words analysis with n...</td>\n",
              "      <td>Vector Representations</td>\n",
              "    </tr>\n",
              "    <tr>\n",
              "      <th>3</th>\n",
              "      <td>https://learn.lambdaschool.com/fsw-pre/module/...</td>\n",
              "      <td>In the last lesson, we started down the path o...</td>\n",
              "      <td>rec0Vmn34NDFqmwy8</td>\n",
              "      <td>{'text': 'in the last lesson, we started down ...</td>\n",
              "      <td>HTML and CSS Fundamentals</td>\n",
              "    </tr>\n",
              "    <tr>\n",
              "      <th>4</th>\n",
              "      <td>https://learn.lambdaschool.com/ds/module/rec0p...</td>\n",
              "      <td>One of Linear Algebra's great strengths is its...</td>\n",
              "      <td>rec0pSWqkfdxJv6eC</td>\n",
              "      <td>{'text': 'one of linear algebra's great streng...</td>\n",
              "      <td>Dimensionality Reduction Techniques</td>\n",
              "    </tr>\n",
              "  </tbody>\n",
              "</table>\n",
              "</div>"
            ],
            "text/plain": [
              "                                                 URL  ...                                 name\n",
              "0  https://learn.lambdaschool.com/and-pre/module/...  ...                              Methods\n",
              "1  https://learn.lambdaschool.com/web1/module/rec...  ...                       JavaScript III\n",
              "2  https://learn.lambdaschool.com/ds/module/rec0O...  ...               Vector Representations\n",
              "3  https://learn.lambdaschool.com/fsw-pre/module/...  ...            HTML and CSS Fundamentals\n",
              "4  https://learn.lambdaschool.com/ds/module/rec0p...  ...  Dimensionality Reduction Techniques\n",
              "\n",
              "[5 rows x 5 columns]"
            ]
          },
          "metadata": {
            "tags": []
          },
          "execution_count": 4
        }
      ]
    },
    {
      "cell_type": "markdown",
      "metadata": {
        "id": "4DICD_9Bwclw",
        "colab_type": "text"
      },
      "source": [
        "### Feature Engineering\n",
        "\n",
        "From the above output it appears all the features are clean. So for the sake of this demo we shall proceed with using the **name** and **description** features.\n",
        "\n",
        "Let us categorize our links into different categories.\n",
        "\n",
        "* ds - Data Science or Data Structure\n",
        "* web - Full Stack or Web Development\n",
        "* ios - iOS\n",
        "* android - Android\n",
        "* career - Career related\n",
        "* ux - UX\n",
        "* cs - Computer Science\n",
        "\n",
        "text information from **modSearchProfile** is considered for now."
      ]
    },
    {
      "cell_type": "code",
      "metadata": {
        "id": "d0pw9GwRwcl0",
        "colab_type": "code",
        "colab": {}
      },
      "source": [
        "# Categorizing the training kit information\n",
        "category = []\n",
        "section_names = !cat modSearchData.json | grep '\"URL\"' | cut -d/ -f4\n",
        "\n",
        "for section in section_names:\n",
        "    if section in ['and-pre', 'android']:\n",
        "        category.append('android')\n",
        "    elif section in ['cd', 'cr', 'ls-edu', 'nxt', 'p4s']:\n",
        "        category.append('career')\n",
        "    elif section in ['cs']:\n",
        "        category.append('cs')\n",
        "    elif section in ['ds', 'ds-pre']:\n",
        "        category.append('ds')\n",
        "    elif section in ['fsw', 'fsw-pre', 'web1', 'web2', 'web3', 'web4java', 'web4node']:\n",
        "        category.append('web')\n",
        "    elif section in ['ios', 'ios-pre']:\n",
        "        category.append('ios')\n",
        "    elif section in ['ux', 'ux-pre']:\n",
        "        category.append('ux')\n",
        "    else:\n",
        "        category.append('other')\n",
        "\n",
        "df['category'] = category\n",
        "\n",
        "# Extract text information from modSearchProfile\n",
        "def extract_text(row):\n",
        "    return dict(row)['text']\n",
        "    \n",
        "df['modSearchText'] = df['modSearchProfile'].apply(extract_text)\n",
        "\n",
        "# Combining text based information\n",
        "df['text'] = df.apply(lambda row: row['name'] + \" \" + row['description']\n",
        "                      + \" \" + row['modSearchText'], axis = 1)\n",
        "\n",
        "# Dropping detailed text information. This can be used later if needed.\n",
        "df.drop(columns=['modSearchProfile'], inplace=True)"
      ],
      "execution_count": 0,
      "outputs": []
    },
    {
      "cell_type": "code",
      "metadata": {
        "id": "I3fmkLaJ6hwf",
        "colab_type": "code",
        "outputId": "ad0eb9b1-fc6a-48c5-bfae-0beb35ae2410",
        "colab": {
          "base_uri": "https://localhost:8080/",
          "height": 35
        }
      },
      "source": [
        "available_category = df.category.unique()\n",
        "available_category"
      ],
      "execution_count": 6,
      "outputs": [
        {
          "output_type": "execute_result",
          "data": {
            "text/plain": [
              "array(['android', 'web', 'ds', 'career', 'ios', 'cs', 'ux'], dtype=object)"
            ]
          },
          "metadata": {
            "tags": []
          },
          "execution_count": 6
        }
      ]
    },
    {
      "cell_type": "markdown",
      "metadata": {
        "id": "6oPSVMVbwcmD",
        "colab_type": "text"
      },
      "source": [
        "### Text Similarity Metrics:\n",
        "\n",
        "For building our content based search bot, we shall compare the name and description from training kit with students questions. For this we use commonly used text similarity metrics **Jaccard Similarity** and **Cosine Similarity**. \n",
        "\n",
        "#### Jaccard similarity: \n",
        "Also called intersection over union is defined as size of intersection divided by size of union of two sets.\n",
        "\n",
        "#### Cosine similarity:\n",
        "Calculates similarity by measuring the cosine of angle between two vectors.\n",
        "\n",
        "#### Reference:\n",
        "https://towardsdatascience.com/overview-of-text-similarity-metrics-3397c4601f50"
      ]
    },
    {
      "cell_type": "code",
      "metadata": {
        "id": "ybIiA1O6wcmh",
        "colab_type": "code",
        "colab": {}
      },
      "source": [
        "def get_jaccard_sim(str1, str2):\n",
        "    a = set(str1.split()) \n",
        "    b = set(str2.split())\n",
        "    c = a.intersection(b)\n",
        "    return float(len(c)) / (len(a) + len(b) - len(c))"
      ],
      "execution_count": 0,
      "outputs": []
    },
    {
      "cell_type": "code",
      "metadata": {
        "id": "K-huXooUOnOD",
        "colab_type": "code",
        "colab": {}
      },
      "source": [
        "from collections import Counter\n",
        "from sklearn.feature_extraction.text import CountVectorizer\n",
        "from sklearn.metrics.pairwise import cosine_similarity\n",
        "def get_cosine_sim(*strs): \n",
        "    vectors = [t for t in get_vectors(*strs)]\n",
        "    return cosine_similarity(vectors)[0][1]\n",
        "    \n",
        "def get_vectors(*strs):\n",
        "    text = [t for t in strs]\n",
        "    vectorizer = CountVectorizer(text)\n",
        "    vectorizer.fit(text)\n",
        "    return vectorizer.transform(text).toarray()"
      ],
      "execution_count": 0,
      "outputs": []
    },
    {
      "cell_type": "markdown",
      "metadata": {
        "id": "j4SEPbe6wcmF",
        "colab_type": "text"
      },
      "source": [
        "### Text processing using NLTK\n",
        "\n",
        "Before we run Jaccard similarity on our data we have to further clean up our text data.\n",
        "\n",
        "Cleaning of text data is done with the help of Natural Language Tool Kit(NLTK) library."
      ]
    },
    {
      "cell_type": "code",
      "metadata": {
        "id": "9E2ip9u1wcmH",
        "colab_type": "code",
        "outputId": "8f97724d-d1a7-4d59-c08a-ed41dbf2f938",
        "colab": {
          "base_uri": "https://localhost:8080/",
          "height": 191
        }
      },
      "source": [
        "!pip install --upgrade pip\n",
        "!pip install -U nltk\n",
        "\n",
        "import nltk\n",
        "nltk.download('punkt')\n",
        "nltk.download('stopwords')\n",
        "nltk.download('wordnet')"
      ],
      "execution_count": 9,
      "outputs": [
        {
          "output_type": "stream",
          "text": [
            "Requirement already up-to-date: pip in /usr/local/lib/python3.6/dist-packages (19.2.3)\n",
            "Requirement already up-to-date: nltk in /usr/local/lib/python3.6/dist-packages (3.4.5)\n",
            "Requirement already satisfied, skipping upgrade: six in /usr/local/lib/python3.6/dist-packages (from nltk) (1.12.0)\n"
          ],
          "name": "stdout"
        },
        {
          "output_type": "stream",
          "text": [
            "[nltk_data] Downloading package punkt to /root/nltk_data...\n",
            "[nltk_data]   Package punkt is already up-to-date!\n",
            "[nltk_data] Downloading package stopwords to /root/nltk_data...\n",
            "[nltk_data]   Package stopwords is already up-to-date!\n",
            "[nltk_data] Downloading package wordnet to /root/nltk_data...\n",
            "[nltk_data]   Package wordnet is already up-to-date!\n"
          ],
          "name": "stderr"
        },
        {
          "output_type": "execute_result",
          "data": {
            "text/plain": [
              "True"
            ]
          },
          "metadata": {
            "tags": []
          },
          "execution_count": 9
        }
      ]
    },
    {
      "cell_type": "code",
      "metadata": {
        "id": "00diH9SawcmN",
        "colab_type": "code",
        "colab": {}
      },
      "source": [
        "import string\n",
        "table = str.maketrans('','', string.punctuation)\n",
        "\n",
        "from nltk.tokenize import word_tokenize # Word Tokenizer\n",
        "\n",
        "from nltk.corpus import stopwords\n",
        "stop_words = stopwords.words('english')\n",
        "stop_words = set(stop_words)\n",
        "\n",
        "\n",
        "from nltk.stem.wordnet import WordNetLemmatizer # Word Lemmatizer\n",
        "lemmatizer = WordNetLemmatizer()\n",
        "\n",
        "def clean_text(text):\n",
        "    \"\"\"\n",
        "    Cleaning the document before vectorization.\n",
        "    \"\"\"\n",
        "    # Tokenize by word\n",
        "    tokens = word_tokenize(text)\n",
        "    # Make all words lowercase\n",
        "    lowercase_tokens = [w.lower() for w in tokens]\n",
        "    # Strip punctuation from within words\n",
        "    no_punctuation = [x.translate(table) for x in lowercase_tokens]\n",
        "    # Remove words that aren't alphabetic\n",
        "    alphabetic = [word for word in no_punctuation if word.isalpha()]\n",
        "    # Remove stopwords\n",
        "    no_stop_words = [w for w in alphabetic if not w in stop_words]\n",
        "    # Lemmatize words\n",
        "    lemmas = [lemmatizer.lemmatize(word) for word in no_stop_words]\n",
        "    return ' '.join(lemmas)\n",
        "\n",
        "# Clean up the text\n",
        "df['cleaned_text'] = df.text.apply(clean_text)"
      ],
      "execution_count": 0,
      "outputs": []
    },
    {
      "cell_type": "markdown",
      "metadata": {
        "id": "uVFRNwC7wcmX",
        "colab_type": "text"
      },
      "source": [
        "### Student Search Input \n",
        "\n",
        "Below cell has sample student query information which shall be used as input to the content based recommendation system.\n",
        "\n",
        "Since query can overlap across different categories, we can request students to input specific category which he/she is looking for.\n",
        "\n",
        "**Category Based Search Format:**\n",
        "```\n",
        "\"<category>: <question>\"\n",
        "```"
      ]
    },
    {
      "cell_type": "code",
      "metadata": {
        "id": "jhTOSzFiB7G4",
        "colab_type": "code",
        "outputId": "54a933c4-268a-4ef2-deac-4c1a85bb261f",
        "colab": {
          "base_uri": "https://localhost:8080/",
          "height": 225
        }
      },
      "source": [
        "# 1st Sample User Information\n",
        "student_query = \"web: Advanced CSS\"\n",
        "\n",
        "# Check if the category is available\n",
        "query_category = student_query.split(\":\")[0]\n",
        "\n",
        "if query_category in available_category:\n",
        "    df_match_by_category = df[df['category']==query_category].copy()\n",
        "    \n",
        "    query_without_category = clean_text(student_query.\\\n",
        "                                        replace(query_category+\":\", \"\"))\n",
        "    \n",
        "    df_match_by_category['jaccard_sim_value'] = \\\n",
        "        df_match_by_category.cleaned_text.apply(get_jaccard_sim, \n",
        "                                                args=(query_without_category,))\n",
        "    sort_by_jaccard_sim = df_match_by_category.sort_values('jaccard_sim_value',\n",
        "                                                          ascending=False).head(3)\n",
        "    print(\"\\nCategory Based: Content matched based on Jaccard Similarity\")\n",
        "    jaccard_match = sort_by_jaccard_sim[sort_by_jaccard_sim['jaccard_sim_value'] > 0]\n",
        "    print(jaccard_match.loc[:, ['name', 'jaccard_sim_value']])\n",
        "    \n",
        "    df_match_by_category['cosine_sim_value'] = \\\n",
        "        df_match_by_category.cleaned_text.apply(get_cosine_sim, \n",
        "                                                args=(query_without_category,))\n",
        "    sort_by_cosine_sim = df_match_by_category.sort_values('cosine_sim_value',\n",
        "                                                           ascending=False).head(3)\n",
        "    print(\"\\nCategory Based: Content matched based on Cosine Similarity\")\n",
        "    cosine_match = sort_by_cosine_sim[sort_by_cosine_sim['cosine_sim_value'] > 0]\n",
        "    print(cosine_match.loc[:, ['name', 'cosine_sim_value']])\n",
        "    \n",
        "else:\n",
        "    df_full_match = df.copy()\n",
        "    \n",
        "    df_full_match['jaccard_sim_value'] = \\\n",
        "        df_full_match.cleaned_text.apply(get_jaccard_sim, \n",
        "                                         args=(clean_text(student_query),))\n",
        "    sort_by_jaccard_sim = df_full_match.sort_values('jaccard_sim_value',\n",
        "                                                    ascending=False).head(3)\n",
        "    print(\"\\nFull Match: Content matched based on Jaccard Similarity\")\n",
        "    jaccard_match = sort_by_jaccard_sim[sort_by_jaccard_sim['jaccard_sim_value'] > 0]\n",
        "    print(jaccard_match.loc[:, ['name', 'jaccard_sim_value']])\n",
        "    \n",
        "    df_full_match['cosine_sim_value'] = \\\n",
        "        df_full_match.cleaned_text.apply(get_cosine_sim, \n",
        "                                         args=(clean_text(student_query),))\n",
        "    \n",
        "    sort_by_cosine_sim = df_full_match.sort_values('cosine_sim_value',\n",
        "                                                   ascending=False).head(3)\n",
        "    print(\"Full Match: Content matched based on Cosine Similarity\")\n",
        "    cosine_match = sort_by_cosine_sim[sort_by_cosine_sim['cosine_sim_value'] > 0]\n",
        "    print(cosine_match.loc[:, ['name', 'cosine_sim_value']])"
      ],
      "execution_count": 11,
      "outputs": [
        {
          "output_type": "stream",
          "text": [
            "\n",
            "Category Based: Content matched based on Jaccard Similarity\n",
            "                                                  name  jaccard_sim_value\n",
            "20   Java Data Modeling, Custom Querying with Intro...           0.027778\n",
            "177               Delivering a Single Page Application           0.010989\n",
            "265                                      JS V: Classes           0.006536\n",
            "\n",
            "Category Based: Content matched based on Cosine Similarity\n",
            "                  name  cosine_sim_value\n",
            "348    Preprocessing I          0.304282\n",
            "110  User Interface II          0.223708\n",
            "286   User Interface I          0.221240\n"
          ],
          "name": "stdout"
        }
      ]
    },
    {
      "cell_type": "markdown",
      "metadata": {
        "id": "usjrI8ue0aIJ",
        "colab_type": "text"
      },
      "source": [
        "### Full Search\n",
        "\n",
        "Students can also query without specifying the category. This results in search across all the categories.\n",
        "\n",
        "**Full Search Format:**\n",
        "```\n",
        "\"<question>\"\n",
        "```"
      ]
    },
    {
      "cell_type": "code",
      "metadata": {
        "id": "4cdQnzCqzw4p",
        "colab_type": "code",
        "outputId": "f1e1f4c8-6676-4cef-c06a-6ffa6f4cdb5e",
        "colab": {
          "base_uri": "https://localhost:8080/",
          "height": 225
        }
      },
      "source": [
        "# 2nd Sample User Information\n",
        "student_query = \"Recursion\"\n",
        "\n",
        "# Check if the category is available\n",
        "query_category = student_query.split(\":\")[0]\n",
        "\n",
        "if query_category in available_category:\n",
        "    df_match_by_category = df[df['category']==query_category].copy()\n",
        "    \n",
        "    query_without_category = clean_text(student_query.\\\n",
        "                                        replace(query_category+\":\", \"\"))\n",
        "    \n",
        "    df_match_by_category['jaccard_sim_value'] = \\\n",
        "        df_match_by_category.cleaned_text.apply(get_jaccard_sim, \n",
        "                                                args=(query_without_category,))\n",
        "    sort_by_jaccard_sim = df_match_by_category.sort_values('jaccard_sim_value',\n",
        "                                                          ascending=False).head(3)\n",
        "    print(\"\\nCategory Based: Content matched based on Jaccard Similarity\")\n",
        "    jaccard_match = sort_by_jaccard_sim[sort_by_jaccard_sim['jaccard_sim_value'] > 0]\n",
        "    print(jaccard_match.loc[:, ['name', 'jaccard_sim_value']])\n",
        "    \n",
        "    df_match_by_category['cosine_sim_value'] = \\\n",
        "        df_match_by_category.cleaned_text.apply(get_cosine_sim, \n",
        "                                                args=(query_without_category,))\n",
        "    sort_by_cosine_sim = df_match_by_category.sort_values('cosine_sim_value',\n",
        "                                                           ascending=False).head(3)\n",
        "    print(\"\\nCategory Based: Content matched based on Cosine Similarity\")\n",
        "    cosine_match = sort_by_cosine_sim[sort_by_cosine_sim['cosine_sim_value'] > 0]\n",
        "    print(cosine_match.loc[:, ['name', 'cosine_sim_value']])\n",
        "    \n",
        "else:\n",
        "    df_full_match = df.copy()\n",
        "    \n",
        "    df_full_match['jaccard_sim_value'] = \\\n",
        "        df_full_match.cleaned_text.apply(get_jaccard_sim, \n",
        "                                         args=(clean_text(student_query),))\n",
        "    sort_by_jaccard_sim = df_full_match.sort_values('jaccard_sim_value',\n",
        "                                                    ascending=False).head(3)\n",
        "    print(\"\\nFull Match: Content matched based on Jaccard Similarity\")\n",
        "    jaccard_match = sort_by_jaccard_sim[sort_by_jaccard_sim['jaccard_sim_value'] > 0]\n",
        "    print(jaccard_match.loc[:, ['name', 'jaccard_sim_value']])\n",
        "    \n",
        "    df_full_match['cosine_sim_value'] = \\\n",
        "        df_full_match.cleaned_text.apply(get_cosine_sim, \n",
        "                                         args=(clean_text(student_query),))\n",
        "    \n",
        "    sort_by_cosine_sim = df_full_match.sort_values('cosine_sim_value',\n",
        "                                                   ascending=False).head(3)\n",
        "    print(\"\\nFull Match: Content matched based on Cosine Similarity\")\n",
        "    cosine_match = sort_by_cosine_sim[sort_by_cosine_sim['cosine_sim_value'] > 0]\n",
        "    print(cosine_match.loc[:, ['name', 'cosine_sim_value']])"
      ],
      "execution_count": 12,
      "outputs": [
        {
          "output_type": "stream",
          "text": [
            "\n",
            "Full Match: Content matched based on Jaccard Similarity\n",
            "                                             name  jaccard_sim_value\n",
            "136               Java II - Language Fundamentals           0.032258\n",
            "107  Computer Architecture: Subroutines, CALL/RET           0.008621\n",
            "282                             Iterative Sorting           0.005650\n",
            "\n",
            "Full Match: Content matched based on Cosine Similarity\n",
            "                                name  cosine_sim_value\n",
            "233                Recursive Sorting          0.192715\n",
            "136  Java II - Language Fundamentals          0.093659\n",
            "80                          Graphs I          0.034120\n"
          ],
          "name": "stdout"
        }
      ]
    },
    {
      "cell_type": "markdown",
      "metadata": {
        "id": "L-LVEhUVwcm8",
        "colab_type": "text"
      },
      "source": [
        "### Conclusion\n",
        "\n",
        "We can perform **A/B testing** based on Jaccard and Cosine Similarity for getting the feedback from students.\n",
        "\n",
        "Once we have enough feedback we can try building **User based collaborative filtering** for recommendating the results."
      ]
    }
  ]
}